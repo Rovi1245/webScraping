{
  "nbformat": 4,
  "nbformat_minor": 0,
  "metadata": {
    "colab": {
      "provenance": []
    },
    "kernelspec": {
      "name": "python3",
      "display_name": "Python 3"
    },
    "language_info": {
      "name": "python"
    }
  },
  "cells": [
    {
      "cell_type": "code",
      "execution_count": null,
      "metadata": {
        "colab": {
          "base_uri": "https://localhost:8080/"
        },
        "id": "47DlTAJdvOg6",
        "outputId": "0b08c72f-3473-4424-b957-d10759b976c6"
      },
      "outputs": [
        {
          "output_type": "stream",
          "name": "stdout",
          "text": [
            "Title: Test Page\n",
            "H1: Welcome to the Test Page\n",
            "Description: This is a test page for web scraping.\n",
            "Link: http://example.com/link1 Text: Link 1\n",
            "Link: http://example.com/link2 Text: Link 2\n",
            "Link: http://example.com/link3 Text: Link 3\n"
          ]
        }
      ],
      "source": [
        "from bs4 import BeautifulSoup\n",
        "\n",
        "html_doc = \"\"\"\n",
        "<html>\n",
        "<head>\n",
        "    <title>Test Page</title>\n",
        "</head>\n",
        "<body>\n",
        "    <div id=\"main\">\n",
        "        <h1>Welcome to the Test Page</h1>\n",
        "        <p class=\"description\">This is a test page for web scraping.</p>\n",
        "        <a href=\"http://example.com/link1\">Link 1</a>\n",
        "        <a href=\"http://example.com/link2\">Link 2</a>\n",
        "        <a href=\"http://example.com/link3\">Link 3</a>\n",
        "    </div>\n",
        "</body>\n",
        "</html>\n",
        "\"\"\"\n",
        "\n",
        "soup = BeautifulSoup(html_doc, \"lxml\")\n",
        "\n",
        "# Extract the title\n",
        "title = soup.title.string\n",
        "print(f\"Title: {title}\")\n",
        "\n",
        "# Extract the h1 tag\n",
        "h1_tag = soup.find('h1')\n",
        "print(f\"H1: {h1_tag.string}\")\n",
        "\n",
        "# Extract the paragraph with class 'description'\n",
        "description = soup.find('p', class_='description').string\n",
        "print(f\"Description: {description}\")\n",
        "\n",
        "# Extract all links\n",
        "links = soup.find_all('a')\n",
        "for link in links:\n",
        "    print(f\"Link: {link.get('href')} Text: {link.string}\")\n"
      ]
    }
  ]
}