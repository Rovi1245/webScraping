{
  "nbformat": 4,
  "nbformat_minor": 0,
  "metadata": {
    "colab": {
      "provenance": []
    },
    "kernelspec": {
      "name": "python3",
      "display_name": "Python 3"
    },
    "language_info": {
      "name": "python"
    }
  },
  "cells": [
    {
      "cell_type": "code",
      "execution_count": 1,
      "metadata": {
        "id": "2PEy2z_pClEM"
      },
      "outputs": [],
      "source": [
        "import nltk\n",
        "from nltk.stem import PorterStemmer\n",
        "stemmer = PorterStemmer()"
      ]
    },
    {
      "cell_type": "code",
      "source": [
        "words = [\"ran\",\"ate\",\"slept\",\"walks\"]\n",
        "stemmed_words = [stemmer.stem(word) for word in words]\n",
        "print(f\"Stemmed Wods: {stemmed_words}\")"
      ],
      "metadata": {
        "colab": {
          "base_uri": "https://localhost:8080/"
        },
        "id": "OmLo28veDEm4",
        "outputId": "41118c45-6c8c-497e-ed25-e96e7c27d70f"
      },
      "execution_count": 4,
      "outputs": [
        {
          "output_type": "stream",
          "name": "stdout",
          "text": [
            "Stemmed Wods: ['ran', 'ate', 'slept', 'walk']\n"
          ]
        }
      ]
    }
  ]
}