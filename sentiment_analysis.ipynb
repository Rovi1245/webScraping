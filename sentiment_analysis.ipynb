{
  "nbformat": 4,
  "nbformat_minor": 0,
  "metadata": {
    "colab": {
      "provenance": []
    },
    "kernelspec": {
      "name": "python3",
      "display_name": "Python 3"
    },
    "language_info": {
      "name": "python"
    }
  },
  "cells": [
    {
      "cell_type": "code",
      "execution_count": 7,
      "metadata": {
        "colab": {
          "base_uri": "https://localhost:8080/"
        },
        "id": "ixlna1omG_Mf",
        "outputId": "ab78ea4b-9f42-4141-f628-01d8036b404e"
      },
      "outputs": [
        {
          "output_type": "stream",
          "name": "stdout",
          "text": [
            "Polarity:0.4375\n",
            "Subjectivity:0.675\n"
          ]
        }
      ],
      "source": [
        "from textblob import TextBlob\n",
        "text = \"I love my country because of its rich heritage\"\n",
        "\n",
        "blob = TextBlob(text)\n",
        "polarity = blob.sentiment.polarity\n",
        "subjectivity = blob.sentiment.subjectivity\n",
        "\n",
        "print(f\"Polarity:{polarity}\")   #polarity refers to how well the sentiment is [-1 is of negetive ....0 is of neutral and 1 is of positive]\n",
        "print(f\"Subjectivity:{subjectivity}\") #subjectivity refers to how can the opinion vary from one to another\n"
      ]
    }
  ]
}